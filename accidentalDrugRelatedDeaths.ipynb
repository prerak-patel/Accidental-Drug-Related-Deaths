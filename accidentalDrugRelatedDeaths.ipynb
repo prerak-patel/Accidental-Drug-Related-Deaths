{
 "cells": [
  {
   "cell_type": "code",
   "execution_count": 22,
   "metadata": {},
   "outputs": [],
   "source": [
    "import pandas as pd\n",
    "from datetime import datetime\n",
    "import statsmodels.api as sm\n",
    "import matplotlib.pyplot as plt\n",
    "%matplotlib inline\n",
    "import numpy as np\n",
    "from scipy import stats"
   ]
  },
  {
   "cell_type": "code",
   "execution_count": 23,
   "metadata": {},
   "outputs": [],
   "source": [
    "# Read from csv \n",
    "drug_related_deaths_df = pd.read_csv('../Datasets/Accidental_Drug_Related_Deaths_2012-2018.csv')"
   ]
  },
  {
   "cell_type": "markdown",
   "metadata": {},
   "source": [
    "### Data Cleanup"
   ]
  },
  {
   "cell_type": "code",
   "execution_count": 24,
   "metadata": {},
   "outputs": [],
   "source": [
    "# Removing unnecessary columns\n",
    "narrowed_df = drug_related_deaths_df.loc[:,['ID','Date','Age','Sex','Race','DeathCity','DeathCityGeo','COD','Heroin','Cocaine','Fentanyl','FentanylAnalogue','Oxycodone','Oxymorphone','Ethanol','Hydrocodone','Benzodiazepine','Methadone','Amphet','Tramad','Morphine_NotHeroin','Hydromorphone','Other','OpiateNOS','AnyOpioid']]\n",
    "\n",
    "# Drop records without Age, Sex and Race entry\n",
    "narrowed_df = narrowed_df.dropna(subset=['Age', 'Sex','Race'], how='all')\n",
    "\n",
    "# Fill NaN values by N\n",
    "narrowed_df.update(narrowed_df[['Heroin','Cocaine','Fentanyl','FentanylAnalogue','Oxycodone','Oxymorphone','Ethanol','Hydrocodone','Benzodiazepine','Methadone','Amphet','Tramad','Morphine_NotHeroin','Hydromorphone','Other','OpiateNOS','AnyOpioid']].fillna('N'))\n",
    "\n",
    "# Convert date column to Datetime object\n",
    "narrowed_df['Date'] = pd.to_datetime(narrowed_df['Date'])\n",
    "narrowed_df\n",
    "\n",
    "narrowed_df.to_csv('../Datasets/Reduced_DataSet.csv')"
   ]
  },
  {
   "cell_type": "code",
   "execution_count": 25,
   "metadata": {},
   "outputs": [
    {
     "data": {
      "text/html": [
       "<div>\n",
       "<style scoped>\n",
       "    .dataframe tbody tr th:only-of-type {\n",
       "        vertical-align: middle;\n",
       "    }\n",
       "\n",
       "    .dataframe tbody tr th {\n",
       "        vertical-align: top;\n",
       "    }\n",
       "\n",
       "    .dataframe thead th {\n",
       "        text-align: right;\n",
       "    }\n",
       "</style>\n",
       "<table border=\"1\" class=\"dataframe\">\n",
       "  <thead>\n",
       "    <tr style=\"text-align: right;\">\n",
       "      <th></th>\n",
       "      <th>ID</th>\n",
       "      <th>Date</th>\n",
       "      <th>Age</th>\n",
       "      <th>Sex</th>\n",
       "      <th>Race</th>\n",
       "      <th>DeathCity</th>\n",
       "      <th>DeathCityGeo</th>\n",
       "      <th>COD</th>\n",
       "      <th>Heroin</th>\n",
       "      <th>Cocaine</th>\n",
       "      <th>...</th>\n",
       "      <th>Hydrocodone</th>\n",
       "      <th>Benzodiazepine</th>\n",
       "      <th>Methadone</th>\n",
       "      <th>Amphet</th>\n",
       "      <th>Tramad</th>\n",
       "      <th>Morphine_NotHeroin</th>\n",
       "      <th>Hydromorphone</th>\n",
       "      <th>Other</th>\n",
       "      <th>OpiateNOS</th>\n",
       "      <th>AnyOpioid</th>\n",
       "    </tr>\n",
       "  </thead>\n",
       "  <tbody>\n",
       "    <tr>\n",
       "      <th>1</th>\n",
       "      <td>13-0102</td>\n",
       "      <td>2013-03-21</td>\n",
       "      <td>48.0</td>\n",
       "      <td>Male</td>\n",
       "      <td>Black</td>\n",
       "      <td>NORWALK</td>\n",
       "      <td>Norwalk, CT\\n(41.11805, -73.412906)</td>\n",
       "      <td>Cocaine Intoxication</td>\n",
       "      <td>N</td>\n",
       "      <td>Y</td>\n",
       "      <td>...</td>\n",
       "      <td>N</td>\n",
       "      <td>N</td>\n",
       "      <td>N</td>\n",
       "      <td>N</td>\n",
       "      <td>N</td>\n",
       "      <td>N</td>\n",
       "      <td>N</td>\n",
       "      <td>N</td>\n",
       "      <td>N</td>\n",
       "      <td>N</td>\n",
       "    </tr>\n",
       "    <tr>\n",
       "      <th>2</th>\n",
       "      <td>16-0165</td>\n",
       "      <td>2016-03-13</td>\n",
       "      <td>30.0</td>\n",
       "      <td>Female</td>\n",
       "      <td>White</td>\n",
       "      <td>DANBURY</td>\n",
       "      <td>Danbury, CT\\n(41.393666, -73.451539)</td>\n",
       "      <td>Acute Heroin and Cocaine Intoxication</td>\n",
       "      <td>Y</td>\n",
       "      <td>Y</td>\n",
       "      <td>...</td>\n",
       "      <td>N</td>\n",
       "      <td>N</td>\n",
       "      <td>N</td>\n",
       "      <td>N</td>\n",
       "      <td>N</td>\n",
       "      <td>N</td>\n",
       "      <td>N</td>\n",
       "      <td>N</td>\n",
       "      <td>N</td>\n",
       "      <td>Y</td>\n",
       "    </tr>\n",
       "    <tr>\n",
       "      <th>3</th>\n",
       "      <td>16-0208</td>\n",
       "      <td>2016-03-31</td>\n",
       "      <td>23.0</td>\n",
       "      <td>Male</td>\n",
       "      <td>White</td>\n",
       "      <td>GREENWICH</td>\n",
       "      <td>Greenwich, CT\\n(41.026526, -73.628549)</td>\n",
       "      <td>Acute Fentanyl and Morphine Intoxication</td>\n",
       "      <td>Y</td>\n",
       "      <td>N</td>\n",
       "      <td>...</td>\n",
       "      <td>N</td>\n",
       "      <td>N</td>\n",
       "      <td>N</td>\n",
       "      <td>N</td>\n",
       "      <td>N</td>\n",
       "      <td>N</td>\n",
       "      <td>N</td>\n",
       "      <td>N</td>\n",
       "      <td>N</td>\n",
       "      <td>Y</td>\n",
       "    </tr>\n",
       "    <tr>\n",
       "      <th>4</th>\n",
       "      <td>13-0052</td>\n",
       "      <td>2013-02-13</td>\n",
       "      <td>22.0</td>\n",
       "      <td>Male</td>\n",
       "      <td>Asian, Other</td>\n",
       "      <td>GREENWICH</td>\n",
       "      <td>Greenwich, CT\\n(41.026526, -73.628549)</td>\n",
       "      <td>Fentanyl Intoxication</td>\n",
       "      <td>N</td>\n",
       "      <td>N</td>\n",
       "      <td>...</td>\n",
       "      <td>N</td>\n",
       "      <td>N</td>\n",
       "      <td>N</td>\n",
       "      <td>N</td>\n",
       "      <td>N</td>\n",
       "      <td>N</td>\n",
       "      <td>N</td>\n",
       "      <td>N</td>\n",
       "      <td>N</td>\n",
       "      <td>N</td>\n",
       "    </tr>\n",
       "    <tr>\n",
       "      <th>5</th>\n",
       "      <td>14-0277</td>\n",
       "      <td>2014-06-29</td>\n",
       "      <td>23.0</td>\n",
       "      <td>Male</td>\n",
       "      <td>White</td>\n",
       "      <td>BRISTOL</td>\n",
       "      <td>BRISTOL, CT\\n(41.673037, -72.945791)</td>\n",
       "      <td>Heroin Intoxication</td>\n",
       "      <td>Y</td>\n",
       "      <td>N</td>\n",
       "      <td>...</td>\n",
       "      <td>N</td>\n",
       "      <td>N</td>\n",
       "      <td>N</td>\n",
       "      <td>N</td>\n",
       "      <td>N</td>\n",
       "      <td>N</td>\n",
       "      <td>N</td>\n",
       "      <td>N</td>\n",
       "      <td>N</td>\n",
       "      <td>N</td>\n",
       "    </tr>\n",
       "  </tbody>\n",
       "</table>\n",
       "<p>5 rows × 25 columns</p>\n",
       "</div>"
      ],
      "text/plain": [
       "        ID       Date   Age     Sex          Race  DeathCity  \\\n",
       "1  13-0102 2013-03-21  48.0    Male         Black    NORWALK   \n",
       "2  16-0165 2016-03-13  30.0  Female         White    DANBURY   \n",
       "3  16-0208 2016-03-31  23.0    Male         White  GREENWICH   \n",
       "4  13-0052 2013-02-13  22.0    Male  Asian, Other  GREENWICH   \n",
       "5  14-0277 2014-06-29  23.0    Male         White    BRISTOL   \n",
       "\n",
       "                             DeathCityGeo  \\\n",
       "1     Norwalk, CT\\n(41.11805, -73.412906)   \n",
       "2    Danbury, CT\\n(41.393666, -73.451539)   \n",
       "3  Greenwich, CT\\n(41.026526, -73.628549)   \n",
       "4  Greenwich, CT\\n(41.026526, -73.628549)   \n",
       "5    BRISTOL, CT\\n(41.673037, -72.945791)   \n",
       "\n",
       "                                        COD Heroin Cocaine  ... Hydrocodone  \\\n",
       "1                      Cocaine Intoxication      N       Y  ...           N   \n",
       "2     Acute Heroin and Cocaine Intoxication      Y       Y  ...           N   \n",
       "3  Acute Fentanyl and Morphine Intoxication      Y       N  ...           N   \n",
       "4                     Fentanyl Intoxication      N       N  ...           N   \n",
       "5                       Heroin Intoxication      Y       N  ...           N   \n",
       "\n",
       "  Benzodiazepine Methadone Amphet Tramad Morphine_NotHeroin Hydromorphone  \\\n",
       "1              N         N      N      N                  N             N   \n",
       "2              N         N      N      N                  N             N   \n",
       "3              N         N      N      N                  N             N   \n",
       "4              N         N      N      N                  N             N   \n",
       "5              N         N      N      N                  N             N   \n",
       "\n",
       "  Other OpiateNOS AnyOpioid  \n",
       "1     N         N         N  \n",
       "2     N         N         Y  \n",
       "3     N         N         Y  \n",
       "4     N         N         N  \n",
       "5     N         N         N  \n",
       "\n",
       "[5 rows x 25 columns]"
      ]
     },
     "execution_count": 25,
     "metadata": {},
     "output_type": "execute_result"
    }
   ],
   "source": [
    "narrowed_df.head()"
   ]
  },
  {
   "cell_type": "markdown",
   "metadata": {},
   "source": [
    "### Kensuke - Top 3 Drugs Contributing to Accidental Death"
   ]
  },
  {
   "cell_type": "code",
   "execution_count": 26,
   "metadata": {},
   "outputs": [],
   "source": [
    "narrowed2_df = narrowed_df.copy()\n",
    "narrowed3_df = narrowed_df.copy() "
   ]
  },
  {
   "cell_type": "code",
   "execution_count": 27,
   "metadata": {},
   "outputs": [],
   "source": [
    "drugnames = list(narrowed2_df.columns[9:23])\n",
    "# Declaring an empty list\n",
    "totalvalue = []"
   ]
  },
  {
   "cell_type": "code",
   "execution_count": 28,
   "metadata": {},
   "outputs": [],
   "source": [
    "# This loop will pick the drug column name and iterates through dat frame. \n",
    "# The summation counter increments if the value of each cell is not N. \n",
    "for drug in drugnames:\n",
    "    counter = 0\n",
    "    for index , value in narrowed2_df.iterrows():\n",
    "        if(narrowed2_df.at[index,drug] != 'N'):\n",
    "            counter = counter + 1\n",
    "    totalvalue.append(counter)"
   ]
  },
  {
   "cell_type": "code",
   "execution_count": 29,
   "metadata": {},
   "outputs": [
    {
     "data": {
      "text/plain": [
       "([<matplotlib.axis.XTick at 0x12edcd0d0>,\n",
       "  <matplotlib.axis.XTick at 0x12edcd210>,\n",
       "  <matplotlib.axis.XTick at 0x12edcdc10>,\n",
       "  <matplotlib.axis.XTick at 0x12ed5ab10>,\n",
       "  <matplotlib.axis.XTick at 0x12edb81d0>,\n",
       "  <matplotlib.axis.XTick at 0x12edb8f10>,\n",
       "  <matplotlib.axis.XTick at 0x12edb8ad0>,\n",
       "  <matplotlib.axis.XTick at 0x12eec73d0>,\n",
       "  <matplotlib.axis.XTick at 0x12eec7a10>,\n",
       "  <matplotlib.axis.XTick at 0x12ed48d50>,\n",
       "  <matplotlib.axis.XTick at 0x12ed48690>,\n",
       "  <matplotlib.axis.XTick at 0x12ed48310>,\n",
       "  <matplotlib.axis.XTick at 0x12edb1b90>,\n",
       "  <matplotlib.axis.XTick at 0x12ed48ed0>],\n",
       " <a list of 14 Text xticklabel objects>)"
      ]
     },
     "execution_count": 29,
     "metadata": {},
     "output_type": "execute_result"
    },
    {
     "data": {
      "image/png": "[encoded data removed]",
      "text/plain": [
       "<Figure size 432x288 with 1 Axes>"
      ]
     },
     "metadata": {
      "needs_background": "light"
     },
     "output_type": "display_data"
    }
   ],
   "source": [
    "# Plotting the results on a scatter plot. \n",
    "plt.scatter(drugnames,totalvalue)\n",
    "plt.xlabel('Type of Drug',fontsize = 10)\n",
    "plt.ylabel('Total Number of Deaths',fontsize = 10)\n",
    "plt.title('Total number of deaths categorized by type of Drug', fontsize = 10)\n",
    "plt.grid(True)\n",
    "plt.xticks(drugnames, drugnames, rotation='vertical')\n"
   ]
  },
  {
   "cell_type": "markdown",
   "metadata": {},
   "source": [
    "### Prerak - Drug Related Deaths - Seasonal Impact"
   ]
  },
  {
   "cell_type": "code",
   "execution_count": 30,
   "metadata": {},
   "outputs": [],
   "source": [
    "# Get count of deaths in each month\n",
    "narrowed_df.index = pd.to_datetime(narrowed_df['Date'],format='%m/%d/%y %I:%M%p')\n",
    "deaths_by_year_month_df = narrowed_df.groupby(by=[narrowed_df.index.year,narrowed_df.index.month]).agg({'ID':'count'})"
   ]
  },
  {
   "cell_type": "code",
   "execution_count": 31,
   "metadata": {},
   "outputs": [],
   "source": [
    "# Create new dataframe with year,month and day concatenated\n",
    "deaths_per_months_df = pd.DataFrame(columns=['Month', 'Deaths Per Month'])\n",
    "for index, row in deaths_by_year_month_df.iterrows():\n",
    "    year = int(index[0])\n",
    "    month = int(index[1])\n",
    "    day = 1\n",
    "    count = row[0]\n",
    "    \n",
    "    converted_date = datetime(year,month,day)\n",
    "    deaths_per_months_df = deaths_per_months_df.append({'Month': converted_date, 'Deaths Per Month': count}, ignore_index=True)  "
   ]
  },
  {
   "cell_type": "code",
   "execution_count": 32,
   "metadata": {},
   "outputs": [
    {
     "data": {
      "text/html": [
       "<div>\n",
       "<style scoped>\n",
       "    .dataframe tbody tr th:only-of-type {\n",
       "        vertical-align: middle;\n",
       "    }\n",
       "\n",
       "    .dataframe tbody tr th {\n",
       "        vertical-align: top;\n",
       "    }\n",
       "\n",
       "    .dataframe thead th {\n",
       "        text-align: right;\n",
       "    }\n",
       "</style>\n",
       "<table border=\"1\" class=\"dataframe\">\n",
       "  <thead>\n",
       "    <tr style=\"text-align: right;\">\n",
       "      <th></th>\n",
       "      <th>Deaths Per Month</th>\n",
       "    </tr>\n",
       "    <tr>\n",
       "      <th>Month</th>\n",
       "      <th></th>\n",
       "    </tr>\n",
       "  </thead>\n",
       "  <tbody>\n",
       "    <tr>\n",
       "      <th>2012-01-01</th>\n",
       "      <td>31</td>\n",
       "    </tr>\n",
       "    <tr>\n",
       "      <th>2012-02-01</th>\n",
       "      <td>27</td>\n",
       "    </tr>\n",
       "    <tr>\n",
       "      <th>2012-03-01</th>\n",
       "      <td>24</td>\n",
       "    </tr>\n",
       "    <tr>\n",
       "      <th>2012-04-01</th>\n",
       "      <td>30</td>\n",
       "    </tr>\n",
       "    <tr>\n",
       "      <th>2012-05-01</th>\n",
       "      <td>28</td>\n",
       "    </tr>\n",
       "  </tbody>\n",
       "</table>\n",
       "</div>"
      ],
      "text/plain": [
       "           Deaths Per Month\n",
       "Month                      \n",
       "2012-01-01               31\n",
       "2012-02-01               27\n",
       "2012-03-01               24\n",
       "2012-04-01               30\n",
       "2012-05-01               28"
      ]
     },
     "execution_count": 32,
     "metadata": {},
     "output_type": "execute_result"
    }
   ],
   "source": [
    "# Set index as month to plot Deaths per month chart\n",
    "deaths_per_months_df.set_index('Month', inplace=True)\n",
    "deaths_per_months_df.head()"
   ]
  },
  {
   "cell_type": "code",
   "execution_count": 33,
   "metadata": {},
   "outputs": [
    {
     "data": {
      "image/png": "[encoded data removed]",
      "text/plain": [
       "<Figure size 432x288 with 1 Axes>"
      ]
     },
     "metadata": {
      "needs_background": "light"
     },
     "output_type": "display_data"
    }
   ],
   "source": [
    "start_date = datetime(2012,1,1)\n",
    "end_date = datetime(2018,12,1)\n",
    "\n",
    "deaths_per_months_df[(start_date <= deaths_per_months_df.index) & (deaths_per_months_df.index <= end_date)].plot(grid='on')\n",
    "plt.title('Seasonal Impact of Drug Related Deaths')\n",
    "plt.ylabel('Drug Related Deaths')\n",
    "plt.savefig('../Accidental-Drug-Related-Deaths/Images/Deaths_Per_season.png')"
   ]
  },
  {
   "cell_type": "code",
   "execution_count": 45,
   "metadata": {},
   "outputs": [],
   "source": [
    "# decomposition = sm.tsa.seasonal_decompose(deaths_per_months_df,model='additive')\n",
    "# fig = decomposition.plot()\n",
    "# plt.savefig('../Accidental-Drug-Related-Deaths/Images/Deaths_Per_season_time_series.png')"
   ]
  },
  {
   "cell_type": "markdown",
   "metadata": {},
   "source": [
    "### Loretta - Relation of age, gender and race on drug related deaths"
   ]
  },
  {
   "cell_type": "code",
   "execution_count": 35,
   "metadata": {},
   "outputs": [
    {
     "data": {
      "text/html": [
       "<div>\n",
       "<style scoped>\n",
       "    .dataframe tbody tr th:only-of-type {\n",
       "        vertical-align: middle;\n",
       "    }\n",
       "\n",
       "    .dataframe tbody tr th {\n",
       "        vertical-align: top;\n",
       "    }\n",
       "\n",
       "    .dataframe thead th {\n",
       "        text-align: right;\n",
       "    }\n",
       "</style>\n",
       "<table border=\"1\" class=\"dataframe\">\n",
       "  <thead>\n",
       "    <tr style=\"text-align: right;\">\n",
       "      <th></th>\n",
       "      <th>ID</th>\n",
       "    </tr>\n",
       "    <tr>\n",
       "      <th>Sex</th>\n",
       "      <th></th>\n",
       "    </tr>\n",
       "  </thead>\n",
       "  <tbody>\n",
       "    <tr>\n",
       "      <th>Female</th>\n",
       "      <td>1325</td>\n",
       "    </tr>\n",
       "    <tr>\n",
       "      <th>Male</th>\n",
       "      <td>3773</td>\n",
       "    </tr>\n",
       "    <tr>\n",
       "      <th>Unknown</th>\n",
       "      <td>1</td>\n",
       "    </tr>\n",
       "  </tbody>\n",
       "</table>\n",
       "</div>"
      ],
      "text/plain": [
       "           ID\n",
       "Sex          \n",
       "Female   1325\n",
       "Male     3773\n",
       "Unknown     1"
      ]
     },
     "execution_count": 35,
     "metadata": {},
     "output_type": "execute_result"
    }
   ],
   "source": [
    "grouped_gender_df = narrowed_df.groupby([\"Sex\"]).agg({'ID':'count'})\n",
    "grouped_gender_df.head()"
   ]
  },
  {
   "cell_type": "code",
   "execution_count": 37,
   "metadata": {},
   "outputs": [
    {
     "data": {
      "image/png": "[encoded data removed]",
      "text/plain": [
       "<Figure size 1080x720 with 1 Axes>"
      ]
     },
     "metadata": {
      "needs_background": "light"
     },
     "output_type": "display_data"
    }
   ],
   "source": [
    "# Graph of Accidental Drug-related Deaths by Sex\n",
    "ax = grouped_gender_df.plot(kind='bar', title =\"Accidental Drug-Related Deaths, by Gender\", figsize=(15, 10), legend=False, fontsize=15)\n",
    "plt.xlabel(\"Gender\", fontsize=18)\n",
    "plt.ylabel(\"Deaths\", fontsize=18)\n",
    "plt.tight_layout()\n",
    "plt.show()"
   ]
  },
  {
   "cell_type": "code",
   "execution_count": 38,
   "metadata": {},
   "outputs": [
    {
     "data": {
      "text/html": [
       "<div>\n",
       "<style scoped>\n",
       "    .dataframe tbody tr th:only-of-type {\n",
       "        vertical-align: middle;\n",
       "    }\n",
       "\n",
       "    .dataframe tbody tr th {\n",
       "        vertical-align: top;\n",
       "    }\n",
       "\n",
       "    .dataframe thead th {\n",
       "        text-align: right;\n",
       "    }\n",
       "</style>\n",
       "<table border=\"1\" class=\"dataframe\">\n",
       "  <thead>\n",
       "    <tr style=\"text-align: right;\">\n",
       "      <th></th>\n",
       "      <th>ID</th>\n",
       "    </tr>\n",
       "    <tr>\n",
       "      <th>Race</th>\n",
       "      <th></th>\n",
       "    </tr>\n",
       "  </thead>\n",
       "  <tbody>\n",
       "    <tr>\n",
       "      <th>Asian Indian</th>\n",
       "      <td>14</td>\n",
       "    </tr>\n",
       "    <tr>\n",
       "      <th>Asian, Other</th>\n",
       "      <td>18</td>\n",
       "    </tr>\n",
       "    <tr>\n",
       "      <th>Black</th>\n",
       "      <td>433</td>\n",
       "    </tr>\n",
       "    <tr>\n",
       "      <th>Chinese</th>\n",
       "      <td>2</td>\n",
       "    </tr>\n",
       "    <tr>\n",
       "      <th>Hawaiian</th>\n",
       "      <td>1</td>\n",
       "    </tr>\n",
       "    <tr>\n",
       "      <th>Hispanic, Black</th>\n",
       "      <td>24</td>\n",
       "    </tr>\n",
       "    <tr>\n",
       "      <th>Hispanic, White</th>\n",
       "      <td>561</td>\n",
       "    </tr>\n",
       "    <tr>\n",
       "      <th>Native American, Other</th>\n",
       "      <td>1</td>\n",
       "    </tr>\n",
       "    <tr>\n",
       "      <th>Other</th>\n",
       "      <td>11</td>\n",
       "    </tr>\n",
       "    <tr>\n",
       "      <th>Unknown</th>\n",
       "      <td>23</td>\n",
       "    </tr>\n",
       "    <tr>\n",
       "      <th>White</th>\n",
       "      <td>4004</td>\n",
       "    </tr>\n",
       "  </tbody>\n",
       "</table>\n",
       "</div>"
      ],
      "text/plain": [
       "                          ID\n",
       "Race                        \n",
       "Asian Indian              14\n",
       "Asian, Other              18\n",
       "Black                    433\n",
       "Chinese                    2\n",
       "Hawaiian                   1\n",
       "Hispanic, Black           24\n",
       "Hispanic, White          561\n",
       "Native American, Other     1\n",
       "Other                     11\n",
       "Unknown                   23\n",
       "White                   4004"
      ]
     },
     "execution_count": 38,
     "metadata": {},
     "output_type": "execute_result"
    }
   ],
   "source": [
    "# Accidental Drug-related deaths by Race\n",
    "grouped_race_df = narrowed_df.groupby([\"Race\"]).agg({'ID':'count'})\n",
    "grouped_race_df.head(15)"
   ]
  },
  {
   "cell_type": "code",
   "execution_count": 39,
   "metadata": {},
   "outputs": [],
   "source": [
    "# Combine some of the Race values\n",
    "\n",
    "narrowed_df[\"Race\"].replace({\"Asian Indian\": \"Asian\", \"Asian, Other\": \"Asian\", \"Unknown\": \"Other\", \"Native American, Other\": \"Native American\", \"Hispanic, Black\": \"Hispanic\", \"Hispanic, White\": \"Hispanic\"}, inplace=True)\n",
    "\n",
    "grouped_race_df = narrowed_df.groupby([\"Race\"]).agg({'ID':'count'})"
   ]
  },
  {
   "cell_type": "code",
   "execution_count": 40,
   "metadata": {},
   "outputs": [
    {
     "data": {
      "image/png": "[encoded data removed]",
      "text/plain": [
       "<Figure size 1080x720 with 1 Axes>"
      ]
     },
     "metadata": {
      "needs_background": "light"
     },
     "output_type": "display_data"
    }
   ],
   "source": [
    "# Bar graph of Accidental Drug-related Deaths by Race\n",
    "ax = grouped_race_df.plot(kind='bar', title =\"Accidental Drug-Related Deaths, by Race\", figsize=(15, 10), legend=False, fontsize=12)\n",
    "plt.xlabel(\"Race\")\n",
    "plt.ylabel(\"Deaths\")\n",
    "plt.show()"
   ]
  },
  {
   "cell_type": "code",
   "execution_count": 41,
   "metadata": {},
   "outputs": [
    {
     "data": {
      "image/png": "[encoded data removed]",
      "text/plain": [
       "<Figure size 432x288 with 1 Axes>"
      ]
     },
     "metadata": {
      "needs_background": "light"
     },
     "output_type": "display_data"
    }
   ],
   "source": [
    "# Histogram of Accidental Deaths by Age\n",
    "Agedeaths = narrowed_df[\"Age\"]\n",
    "\n",
    "plt.hist(Agedeaths)\n",
    "plt.xlabel(\"Age\")\n",
    "plt.ylabel(\"Accidental Deaths\")\n",
    "plt.show()"
   ]
  },
  {
   "cell_type": "code",
   "execution_count": 42,
   "metadata": {},
   "outputs": [
    {
     "data": {
      "text/html": [
       "<div>\n",
       "<style scoped>\n",
       "    .dataframe tbody tr th:only-of-type {\n",
       "        vertical-align: middle;\n",
       "    }\n",
       "\n",
       "    .dataframe tbody tr th {\n",
       "        vertical-align: top;\n",
       "    }\n",
       "\n",
       "    .dataframe thead th {\n",
       "        text-align: right;\n",
       "    }\n",
       "</style>\n",
       "<table border=\"1\" class=\"dataframe\">\n",
       "  <thead>\n",
       "    <tr style=\"text-align: right;\">\n",
       "      <th></th>\n",
       "      <th>ID</th>\n",
       "    </tr>\n",
       "    <tr>\n",
       "      <th>Age Group</th>\n",
       "      <th></th>\n",
       "    </tr>\n",
       "  </thead>\n",
       "  <tbody>\n",
       "    <tr>\n",
       "      <th>Under 25</th>\n",
       "      <td>503</td>\n",
       "    </tr>\n",
       "    <tr>\n",
       "      <th>25-40</th>\n",
       "      <td>2006</td>\n",
       "    </tr>\n",
       "    <tr>\n",
       "      <th>41-65</th>\n",
       "      <td>2522</td>\n",
       "    </tr>\n",
       "    <tr>\n",
       "      <th>over 65</th>\n",
       "      <td>71</td>\n",
       "    </tr>\n",
       "  </tbody>\n",
       "</table>\n",
       "</div>"
      ],
      "text/plain": [
       "             ID\n",
       "Age Group      \n",
       "Under 25    503\n",
       "25-40      2006\n",
       "41-65      2522\n",
       "over 65      71"
      ]
     },
     "execution_count": 42,
     "metadata": {},
     "output_type": "execute_result"
    }
   ],
   "source": [
    "# Create age groups (0-under 25, 25-40, 41-65, over 65)\n",
    "bins = [-1, 25, 41, 66, 199]\n",
    "AgeGroups = ['Under 25','25-40','41-65','over 65']\n",
    "\n",
    "#Place data series into new column in dataframe\n",
    "narrowed_df[\"Age Group\"] = pd.cut(narrowed_df[\"Age\"], bins, labels=AgeGroups)\n",
    "narrowed_df.head()\n",
    "\n",
    "grouped_AgeGroup_df = narrowed_df.groupby([\"Age Group\"]).agg({'ID':'count'})\n",
    "grouped_AgeGroup_df.head(10)"
   ]
  },
  {
   "cell_type": "code",
   "execution_count": 44,
   "metadata": {},
   "outputs": [
    {
     "data": {
      "image/png": "[encoded data removed]",
      "text/plain": [
       "<Figure size 1080x720 with 1 Axes>"
      ]
     },
     "metadata": {
      "needs_background": "light"
     },
     "output_type": "display_data"
    }
   ],
   "source": [
    "# Accidental Drug-related deaths by Age Groups\n",
    "ax = grouped_AgeGroup_df.plot(kind='bar', title =\"Accidental Drug-Related Deaths, by Age Group\", figsize=(15, 10), legend=False, fontsize=15)\n",
    "plt.xlabel(\"Age Group\", fontsize=18)\n",
    "plt.ylabel(\"Deaths\", fontsize=18)\n",
    "plt.tight_layout()\n",
    "plt.show()"
   ]
  },
  {
   "cell_type": "markdown",
   "metadata": {},
   "source": [
    "### Daniel - Drugs Related Deaths by City"
   ]
  },
  {
   "cell_type": "code",
   "execution_count": null,
   "metadata": {},
   "outputs": [],
   "source": []
  }
 ],
 "metadata": {
  "kernelspec": {
   "display_name": "Python 3",
   "language": "python",
   "name": "python3"
  },
  "language_info": {
   "codemirror_mode": {
    "name": "ipython",
    "version": 3
   },
   "file_extension": ".py",
   "mimetype": "text/x-python",
   "name": "python",
   "nbconvert_exporter": "python",
   "pygments_lexer": "ipython3",
   "version": "3.7.4"
  }
 },
 "nbformat": 4,
 "nbformat_minor": 4
}
